{
 "cells": [
  {
   "cell_type": "code",
   "execution_count": 1,
   "id": "d1569d32-49b8-47e9-986c-d79ed942e938",
   "metadata": {},
   "outputs": [],
   "source": [
    "%load_ext autoreload\n",
    "%autoreload 2\n",
    "%load_ext tensorboard"
   ]
  },
  {
   "cell_type": "code",
   "execution_count": null,
   "id": "fc444c4a-e269-4330-aee6-fbed77257a8d",
   "metadata": {},
   "outputs": [],
   "source": [
    "import torch\n",
    "\n",
    "device = torch.device(\"cuda\" if torch.cuda.is_available() else \"cpu\")\n",
    "device"
   ]
  },
  {
   "cell_type": "code",
   "execution_count": null,
   "id": "cbb18ebb-0144-4f5c-bcd6-46677942a47c",
   "metadata": {},
   "outputs": [],
   "source": [
    "from src.common.prepare import prepare_model, prepare_loaders, prepare_criterion, prepare_optim_and_scheduler\n",
    "from src.common.utils import AttrDict\n",
    "from src.trainer.trainer_classification import TrainerClassification"
   ]
  },
  {
   "cell_type": "markdown",
   "id": "ddf41d02-b7ab-4880-b63d-140d033e1093",
   "metadata": {
    "tags": []
   },
   "source": [
    "# Model"
   ]
  },
  {
   "cell_type": "code",
   "execution_count": null,
   "id": "4c86e001-5453-4cda-adc0-05e4a48a7c03",
   "metadata": {},
   "outputs": [],
   "source": [
    "NUM_FEATURES = 32 * 32 * 3\n",
    "NUM_CLASSES = 10\n",
    "DIMS = [NUM_FEATURES, 512, 512, NUM_CLASSES]\n",
    "model_params = {'layers_dim':  DIMS, 'activation_name': 'relu'}\n",
    "model = prepare_model('mlp', model_params=model_params).to(device)"
   ]
  },
  {
   "cell_type": "markdown",
   "id": "096b69ab-2dd6-4309-a535-4f3646e882b1",
   "metadata": {
    "tags": []
   },
   "source": [
    "# Criterion"
   ]
  },
  {
   "cell_type": "code",
   "execution_count": null,
   "id": "a5d03cd3-4ad6-4b89-a863-44bc3aeb3770",
   "metadata": {},
   "outputs": [],
   "source": [
    "criterion_params = {'model': model, 'general_criterion_name': 'ce', 'num_classes': NUM_CLASSES,\n",
    "                    'whether_record_trace': True, 'fpw': 1e-2}\n",
    "criterion = prepare_criterion('fp', criterion_params)"
   ]
  },
  {
   "cell_type": "markdown",
   "id": "e607a3b6-8fa5-422a-adbc-1c9dc83b7a09",
   "metadata": {},
   "source": [
    "# Dataset"
   ]
  },
  {
   "cell_type": "code",
   "execution_count": null,
   "id": "37d21531-cfcb-4e44-9890-e52b575a104c",
   "metadata": {},
   "outputs": [],
   "source": [
    "dataset_params = {'dataset_path': 'data/', 'whether_aug': False}\n",
    "loader_params = {'batch_size': 128, 'pin_memory': True, 'num_workers': 4}\n",
    "loaders = prepare_loaders('cifar10', dataset_params, loader_params)"
   ]
  },
  {
   "cell_type": "markdown",
   "id": "15d9df17-3d8c-41f8-a2b5-b2f8deb1f7cd",
   "metadata": {
    "tags": []
   },
   "source": [
    "# Optimizer"
   ]
  },
  {
   "cell_type": "code",
   "execution_count": null,
   "id": "4b01ae97-4951-4fae-bc89-fcab894475f1",
   "metadata": {
    "tags": []
   },
   "outputs": [],
   "source": [
    "GRAD_ACCUM_STEPS = 1\n",
    "EPOCHS = 150\n",
    "T_max = (len(loaders['train']) // GRAD_ACCUM_STEPS) * EPOCHS\n",
    "optim_params = {'lr': 1e-2, 'momentum': 0.9, 'weight_decay': 0.0}\n",
    "optim, lr_scheduler = prepare_optim_and_scheduler(model, 'sgd', optim_params, scheduler_name=None)"
   ]
  },
  {
   "cell_type": "markdown",
   "id": "690ce6b5-a1d2-4d1c-9f90-ce6db588a8bb",
   "metadata": {},
   "source": [
    "# Tensorboard"
   ]
  },
  {
   "cell_type": "code",
   "execution_count": 2,
   "id": "40d0d194-d457-40bc-8947-af72967b51cd",
   "metadata": {
    "tags": []
   },
   "outputs": [
    {
     "data": {
      "text/html": [
       "\n",
       "      <iframe id=\"tensorboard-frame-9bcaac130ac3b901\" width=\"100%\" height=\"800\" frameborder=\"0\">\n",
       "      </iframe>\n",
       "      <script>\n",
       "        (function() {\n",
       "          const frame = document.getElementById(\"tensorboard-frame-9bcaac130ac3b901\");\n",
       "          const url = new URL(\"/\", window.location);\n",
       "          const port = 6006;\n",
       "          if (port) {\n",
       "            url.port = port;\n",
       "          }\n",
       "          frame.src = url;\n",
       "        })();\n",
       "      </script>\n",
       "    "
      ],
      "text/plain": [
       "<IPython.core.display.HTML object>"
      ]
     },
     "metadata": {},
     "output_type": "display_data"
    }
   ],
   "source": [
    "%tensorboard --logdir=reports/simple_cnn_cifar10_sgd_fp"
   ]
  },
  {
   "cell_type": "markdown",
   "id": "a64e4b4f-b752-4c0a-b0be-26df02461c8b",
   "metadata": {},
   "source": [
    "# Trainer"
   ]
  },
  {
   "cell_type": "code",
   "execution_count": null,
   "id": "873ab935-2b9e-48ab-89f8-ba2bd1b97b73",
   "metadata": {
    "tags": []
   },
   "outputs": [],
   "source": [
    "params_trainer = {\n",
    "    'model': model,\n",
    "    'criterion': criterion,\n",
    "    'loaders': loaders,\n",
    "    'optim': optim,\n",
    "    'lr_scheduler': lr_scheduler,\n",
    "}\n",
    "trainer = TrainerClassification(**params_trainer)"
   ]
  },
  {
   "cell_type": "code",
   "execution_count": null,
   "id": "03618ee0-6a6f-4097-baba-5bffc677bef8",
   "metadata": {},
   "outputs": [],
   "source": [
    "EXP_NAME = 'tqdm_test'\n",
    "config = {\n",
    "    'epoch_start_at': 0,\n",
    "    'epoch_end_at': EPOCHS,\n",
    "    'grad_accum_steps': GRAD_ACCUM_STEPS,\n",
    "    'save_multi': T_max // 10,\n",
    "    'log_multi': 100,\n",
    "    'clip_value': 0.0,\n",
    "    'base_path': 'reports',\n",
    "    'exp_name': EXP_NAME,\n",
    "    'logger_config': {'logger_name': 'tensorboard'},\n",
    "    'random_seed': 42,\n",
    "    'device': device\n",
    "\n",
    "}\n",
    "config = AttrDict(config)\n",
    "acc = trainer.run_exp(config)"
   ]
  },
  {
   "cell_type": "code",
   "execution_count": null,
   "id": "034c2348-ae7e-4f20-af9b-089714990ff1",
   "metadata": {},
   "outputs": [],
   "source": []
  }
 ],
 "metadata": {
  "kernelspec": {
   "display_name": "memo",
   "language": "python",
   "name": "memo"
  },
  "language_info": {
   "codemirror_mode": {
    "name": "ipython",
    "version": 3
   },
   "file_extension": ".py",
   "mimetype": "text/x-python",
   "name": "python",
   "nbconvert_exporter": "python",
   "pygments_lexer": "ipython3",
   "version": "3.10.6"
  }
 },
 "nbformat": 4,
 "nbformat_minor": 5
}
