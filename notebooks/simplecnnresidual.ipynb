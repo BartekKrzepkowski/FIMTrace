{
 "cells": [
  {
   "cell_type": "code",
   "execution_count": 7,
   "metadata": {},
   "outputs": [],
   "source": [
    "from typing import Union, Tuple, List, Any, Dict\n",
    "\n",
    "import torch\n",
    "import torch.nn.functional as F\n",
    "from torch import nn\n"
   ]
  },
  {
   "cell_type": "code",
   "execution_count": 5,
   "metadata": {},
   "outputs": [],
   "source": [
    "class SDNPool(nn.Module):\n",
    "    def __init__(self, target_size: Union[int, Tuple[int, int]]):\n",
    "        super().__init__()\n",
    "        self._alpha = nn.Parameter(torch.rand(1))\n",
    "        self._max_pool = nn.AdaptiveMaxPool2d(target_size)\n",
    "        self._avg_pool = nn.AdaptiveAvgPool2d(target_size)\n",
    "\n",
    "    def forward(self, x):\n",
    "        avg_p = self._alpha * self._max_pool(x)\n",
    "        max_p = (1 - self._alpha) * self._avg_pool(x)\n",
    "        mixed = avg_p + max_p\n",
    "        return mixed\n",
    "\n",
    "\n",
    "class StandardHead(nn.Module):\n",
    "    def __init__(self, in_channels: int, num_classes: int, pool_size: int = 4):\n",
    "        super().__init__()\n",
    "        self._num_classes = num_classes\n",
    "        self._pooling = SDNPool(pool_size)\n",
    "        self._fc = nn.Linear(in_channels * pool_size ** 2, num_classes)\n",
    "\n",
    "    def forward(self, x: torch.Tensor):\n",
    "        x = F.relu(x)\n",
    "        x = self._pooling(x)\n",
    "        x = x.view(x.size(0), -1)\n",
    "        x = self._fc(x)\n",
    "        return x"
   ]
  },
  {
   "cell_type": "code",
   "execution_count": 17,
   "metadata": {},
   "outputs": [],
   "source": [
    "class SimpleCNNRes(torch.nn.Module):\n",
    "    def __init__(self, layers_dim: List[int]):\n",
    "        super().__init__()\n",
    "        self.first_layer = torch.nn.Sequential(torch.nn.Conv2d(layers_dim[0], layers_dim[1], 3, padding=1),\n",
    "                                               torch.nn.ReLU(),\n",
    "                                               torch.nn.Conv2d(layers_dim[1], layers_dim[1], 3, padding=1, stride=2),\n",
    "                                               torch.nn.ReLU()\n",
    "                                               )\n",
    "    \n",
    "        self.blocks = torch.nn.ModuleList([\n",
    "            torch.nn.Sequential(torch.nn.Conv2d(layer_dim1, layer_dim2, 3, padding=1),\n",
    "                                torch.nn.ReLU(),\n",
    "                                torch.nn.Conv2d(layer_dim2, layer_dim2, 3, padding=1),\n",
    "                                torch.nn.ReLU()\n",
    "                                )\n",
    "            for layer_dim1, layer_dim2 in zip(layers_dim[2:-2], layers_dim[3:-1])\n",
    "        ])\n",
    "        self.final_layer = StandardHead(layers_dim[-2], layers_dim[-1], pool_size=4)\n",
    "\n",
    "    def forward(self, x):\n",
    "        x = self.first_layer(x)\n",
    "        for block in self.blocks:\n",
    "            x = block(x) + x\n",
    "        x = self.final_layer(x)\n",
    "        return x"
   ]
  },
  {
   "cell_type": "code",
   "execution_count": 29,
   "metadata": {},
   "outputs": [],
   "source": [
    "model = SimpleCNNRes([3, 64, 64, 64, 64, 10])"
   ]
  },
  {
   "cell_type": "code",
   "execution_count": 30,
   "metadata": {},
   "outputs": [
    {
     "data": {
      "text/plain": [
       "SimpleCNNRes(\n",
       "  (first_layer): Sequential(\n",
       "    (0): Conv2d(3, 64, kernel_size=(3, 3), stride=(1, 1), padding=(1, 1))\n",
       "    (1): ReLU()\n",
       "    (2): Conv2d(64, 64, kernel_size=(3, 3), stride=(2, 2), padding=(1, 1))\n",
       "    (3): ReLU()\n",
       "  )\n",
       "  (blocks): ModuleList(\n",
       "    (0-1): 2 x Sequential(\n",
       "      (0): Conv2d(64, 64, kernel_size=(3, 3), stride=(1, 1), padding=(1, 1))\n",
       "      (1): ReLU()\n",
       "      (2): Conv2d(64, 64, kernel_size=(3, 3), stride=(1, 1), padding=(1, 1))\n",
       "      (3): ReLU()\n",
       "    )\n",
       "  )\n",
       "  (final_layer): StandardHead(\n",
       "    (_pooling): SDNPool(\n",
       "      (_max_pool): AdaptiveMaxPool2d(output_size=4)\n",
       "      (_avg_pool): AdaptiveAvgPool2d(output_size=4)\n",
       "    )\n",
       "    (_fc): Linear(in_features=1024, out_features=10, bias=True)\n",
       "  )\n",
       ")"
      ]
     },
     "execution_count": 30,
     "metadata": {},
     "output_type": "execute_result"
    }
   ],
   "source": [
    "model"
   ]
  },
  {
   "cell_type": "code",
   "execution_count": 21,
   "metadata": {},
   "outputs": [
    {
     "data": {
      "text/plain": [
       "torch.Size([1, 10])"
      ]
     },
     "execution_count": 21,
     "metadata": {},
     "output_type": "execute_result"
    }
   ],
   "source": [
    "model(torch.rand(1, 3, 32, 32)).shape"
   ]
  },
  {
   "cell_type": "code",
   "execution_count": 31,
   "metadata": {},
   "outputs": [],
   "source": [
    "def entropy_loss(y_pred):\n",
    "    return -torch.sum(torch.nn.functional.softmax(y_pred, dim=1) * torch.log_softmax(y_pred, dim=1))"
   ]
  },
  {
   "cell_type": "code",
   "execution_count": 36,
   "metadata": {},
   "outputs": [
    {
     "data": {
      "text/plain": [
       "tensor(1.7918)"
      ]
     },
     "execution_count": 36,
     "metadata": {},
     "output_type": "execute_result"
    }
   ],
   "source": [
    "entropy_loss(torch.tensor([4,4,4,4,4,4]).unsqueeze(0).float())"
   ]
  },
  {
   "cell_type": "code",
   "execution_count": null,
   "metadata": {},
   "outputs": [],
   "source": []
  }
 ],
 "metadata": {
  "kernelspec": {
   "display_name": "fp2",
   "language": "python",
   "name": "python3"
  },
  "language_info": {
   "codemirror_mode": {
    "name": "ipython",
    "version": 3
   },
   "file_extension": ".py",
   "mimetype": "text/x-python",
   "name": "python",
   "nbconvert_exporter": "python",
   "pygments_lexer": "ipython3",
   "version": "3.10.10"
  },
  "orig_nbformat": 4
 },
 "nbformat": 4,
 "nbformat_minor": 2
}
